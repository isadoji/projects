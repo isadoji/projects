{
 "cells": [
  {
   "cell_type": "markdown",
   "metadata": {},
   "source": [
    "# Zuber\n",
    "\n",
    "Estás trabajando como analista para Zuber, una nueva empresa de viajes compartidos que se está lanzando en Chicago. Tu tarea es encontrar patrones en la información disponible. Quieres comprender las preferencias de los pasajeros y el impacto de los factores externos en los viajes.\n",
    "\n",
    "**Estudiarás una base de datos, analizarás los datos de los competidores y probarás una hipótesis sobre el impacto del clima en la frecuencia de los viajes.**\n",
    "\n",
    "**Descripción de los datos**\n",
    "\n",
    "Una base de datos con información sobre viajes en taxi en Chicago:\n",
    "\n",
    "1. tabla neighborhoods: datos sobre los barrios de la ciudad\n",
    "- name: nombre del barrio\n",
    "- neighborhood_id: código del barrio\n",
    "2. tabla cabs: datos sobre los taxis\n",
    "- cab_id: código del vehículo\n",
    "- vehicle_id: ID técnico del vehículo\n",
    "- company_name: la empresa propietaria del vehículo\n",
    "3. tabla trips: datos sobre los viajes\n",
    "- trip_id: código del viaje\n",
    "- cab_id: código del vehículo que opera el viaje\n",
    "- start_ts: fecha y hora del inicio del viaje (tiempo redondeado a la hora)\n",
    "- end_ts: fecha y hora de finalización del viaje (tiempo redondeado a la hora)\n",
    "- duration_seconds: duración del viaje en segundos\n",
    "- distance_miles: distancia del viaje en millas\n",
    "- pickup_location_id: código del barrio de recogida\n",
    "- dropoff_location_id: código del barrio de finalización\n",
    "4. tabla weather_records: datos sobre el clima\n",
    "- record_id: código del registro meteorológico\n",
    "- ts: fecha y hora del registro (tiempo redondeado a la hora)\n",
    "- temperature: temperatura cuando se tomó el registro\n",
    "- description: breve descripción de las condiciones meteorológicas, por ejemplo, \"lluvia ligera\" o \"nubes dispersas\"\n",
    "\n"
   ]
  },
  {
   "cell_type": "markdown",
   "metadata": {},
   "source": [
    "##  Paso 1\n",
    "\n",
    "Escribe un código para analizar los datos sobre el clima en Chicago en noviembre de 2017 desde el sitio web:\n",
    "\n",
    "https://practicum-content.s3.us-west-1.amazonaws.com/data-analyst-eng/moved_chicago_weather_2017.html"
   ]
  },
  {
   "cell_type": "code",
   "execution_count": 1,
   "metadata": {},
   "outputs": [
    {
     "name": "stdout",
     "output_type": "stream",
     "text": [
      "           Date and time Temperature       Description\n",
      "0    2017-11-01 00:00:00     276.150     broken clouds\n",
      "1    2017-11-01 01:00:00     275.700  scattered clouds\n",
      "2    2017-11-01 02:00:00     275.610   overcast clouds\n",
      "3    2017-11-01 03:00:00     275.350     broken clouds\n",
      "4    2017-11-01 04:00:00     275.240     broken clouds\n",
      "..                   ...         ...               ...\n",
      "692  2017-11-29 20:00:00     281.340        few clouds\n",
      "693  2017-11-29 21:00:00     281.690      sky is clear\n",
      "694  2017-11-29 22:00:00     281.070        few clouds\n",
      "695  2017-11-29 23:00:00     280.060      sky is clear\n",
      "696  2017-11-30 00:00:00     278.460      sky is clear\n",
      "\n",
      "[697 rows x 3 columns]\n"
     ]
    }
   ],
   "source": [
    "import requests\n",
    "from bs4 import BeautifulSoup\n",
    "import pandas as pd\n",
    "URL='https://practicum-content.s3.us-west-1.amazonaws.com/data-analyst-eng/moved_chicago_weather_2017.html'\n",
    "req = requests.get(URL)\n",
    "soup = BeautifulSoup(req.text, 'lxml')\n",
    "table = soup.find('table', attrs={\"id\": \"weather_records\"})\n",
    "heading_table=[]\n",
    "for row in table.find_all('th'):\n",
    "    heading_table.append(row.text)   \n",
    "content=[]\n",
    "for row in table.find_all('tr'):\n",
    "    if not row.find_all('th'):\n",
    "        content.append([element.text for element in row.find_all('td')])\n",
    "weather_records = pd.DataFrame(content, columns = heading_table)\n",
    "print(weather_records)"
   ]
  },
  {
   "cell_type": "markdown",
   "metadata": {},
   "source": [
    "## Paso 2. Análisis exploratorio de datos (sql)\n",
    "\n",
    "1. Encuentra el número de viajes en taxi para cada empresa de taxis del 15 al 16 de noviembre de 2017. Nombra el campo resultante trips_amount y muéstralo junto con el campo company_name. Ordena los resultados por el campo trips_amount en orden descendente.\n",
    "\n",
    "2. Encuentra la cantidad de viajes para cada empresa de taxis cuyo nombre contenga las palabras \"Yellow\" o \"Blue\" del 1 al 7 de noviembre de 2017. Nombra la variable resultante trips_amount. Agrupa los resultados por el campo company_name.\n",
    "\n",
    "3. En noviembre de 2017 las empresas de taxis más populares fueron Flash Cab y Taxi Affiliation Services. Encuentra el número de viajes de estas dos empresas y asigna a la variable resultante el nombre trips_amount. Junta los viajes de todas las demás empresas en el grupo \"Other\". Agrupa los datos por nombres de empresas de taxis. Nombra el campo con nombres de empresas de taxis company. Ordena el resultado en orden descendente por trips_amount."
   ]
  },
  {
   "cell_type": "markdown",
   "metadata": {},
   "source": [
    "## Paso 3. Prueba la hipótesis de que la duración de los viajes desde el Loop hasta el Aeropuerto Internacional O'Hare cambia los sábados lluviosos.\n",
    "\n",
    "1. Recupera los identificadores de los barrios de O'Hare y Loop de la tabla neighborhoods.\n",
    "\n",
    "2. Para cada hora recupera los registros de condiciones meteorológicas de la tabla weather_records. Usando el operador CASE, divide todas las horas en dos grupos: \"Bad\" si el campo description contiene las palabras \"rain\" o \"storm\" y \"Good\" para los demás. Nombra el campo resultante weather_conditions. La tabla final debe incluir dos campos: fecha y hora (ts) y weather_conditions.\n",
    "\n",
    "3. Recupera de la tabla trips todos los viajes que comenzaron en el Loop (neighborhood_id: 50) y finalizaron en O'Hare (neighborhood_id: 63) un sábado. Obtén las condiciones climáticas para cada viaje. Utiliza el método que aplicaste en la tarea anterior. Recupera también la duración de cada viaje.\n",
    "Ignora los viajes para los que no hay datos disponibles sobre las condiciones climáticas."
   ]
  },
  {
   "cell_type": "markdown",
   "metadata": {},
   "source": [
    "Con esos datos se creó un dataset con la siguente información:\n",
    "\n",
    "\n",
    "1. project_sql_result_01.csv. Contiene los siguientes datos:\n",
    "- company_name: nombre de la empresa de taxis\n",
    "- trips_amount: el número de viajes de cada compañía de taxis el 15 y 16 de noviembre de 2017.\n",
    "2. project_sql_result_04.csv. Contiene los siguientes datos:\n",
    "- dropoff_location_name: barrios de Chicago donde finalizaron los viajes\n",
    "- average_trips: el promedio de viajes que terminaron en cada barrio en noviembre de 2017.b"
   ]
  },
  {
   "cell_type": "markdown",
   "metadata": {},
   "source": [
    "## Paso 4. Para estos dos datasets ahora necesitas:\n",
    "\n",
    "- importar los archivos\n",
    "- estudiar los datos que contienen\n",
    "- asegurarte de que los tipos de datos sean correctos\n",
    "- identificar los 10 principales barrios en términos de finalización\n",
    "- hacer gráficos: empresas de taxis y número de viajes, los 10 barrios principales por número de finalizaciones\n",
    "- sacar conclusiones basadas en cada gráfico y explicar los resultados"
   ]
  },
  {
   "cell_type": "markdown",
   "metadata": {},
   "source": [
    "### Importar los archivos"
   ]
  },
  {
   "cell_type": "code",
   "execution_count": 1,
   "metadata": {},
   "outputs": [],
   "source": [
    "# Importar bibliotecas\n",
    "import pandas as pd\n",
    "import numpy as np\n",
    "import seaborn as sns\n",
    "import matplotlib.pyplot as plt\n",
    "from scipy import stats "
   ]
  },
  {
   "cell_type": "code",
   "execution_count": 2,
   "metadata": {},
   "outputs": [],
   "source": [
    "df_company = pd.read_csv('./datasets/project_sql_result_01.csv')\n",
    "df_dropoff = pd.read_csv('./datasets/project_sql_result_04.csv')\n",
    "df_trips = pd.read_csv('./datasets/project_sql_result_07.csv')"
   ]
  },
  {
   "cell_type": "markdown",
   "metadata": {},
   "source": [
    " ### Estudiar los datos que contienen"
   ]
  },
  {
   "cell_type": "code",
   "execution_count": 4,
   "metadata": {},
   "outputs": [],
   "source": [
    "# mostrar información del DataFrame\n",
    "def info(df):\n",
    "    display(df.head(10))\n",
    "    print()\n",
    "    print(df.info())\n",
    "    print()\n",
    "    print(df.describe())\n",
    "    print()\n",
    "    print('Duplicated: ',df.duplicated().sum())\n",
    "    print()\n",
    "    print('Null values:')\n",
    "    print(df.isnull().sum())"
   ]
  },
  {
   "cell_type": "code",
   "execution_count": 5,
   "metadata": {},
   "outputs": [
    {
     "data": {
      "text/html": [
       "<div>\n",
       "<style scoped>\n",
       "    .dataframe tbody tr th:only-of-type {\n",
       "        vertical-align: middle;\n",
       "    }\n",
       "\n",
       "    .dataframe tbody tr th {\n",
       "        vertical-align: top;\n",
       "    }\n",
       "\n",
       "    .dataframe thead th {\n",
       "        text-align: right;\n",
       "    }\n",
       "</style>\n",
       "<table border=\"1\" class=\"dataframe\">\n",
       "  <thead>\n",
       "    <tr style=\"text-align: right;\">\n",
       "      <th></th>\n",
       "      <th>company_name</th>\n",
       "      <th>trips_amount</th>\n",
       "    </tr>\n",
       "  </thead>\n",
       "  <tbody>\n",
       "    <tr>\n",
       "      <th>0</th>\n",
       "      <td>Flash Cab</td>\n",
       "      <td>19558</td>\n",
       "    </tr>\n",
       "    <tr>\n",
       "      <th>1</th>\n",
       "      <td>Taxi Affiliation Services</td>\n",
       "      <td>11422</td>\n",
       "    </tr>\n",
       "    <tr>\n",
       "      <th>2</th>\n",
       "      <td>Medallion Leasing</td>\n",
       "      <td>10367</td>\n",
       "    </tr>\n",
       "    <tr>\n",
       "      <th>3</th>\n",
       "      <td>Yellow Cab</td>\n",
       "      <td>9888</td>\n",
       "    </tr>\n",
       "    <tr>\n",
       "      <th>4</th>\n",
       "      <td>Taxi Affiliation Service Yellow</td>\n",
       "      <td>9299</td>\n",
       "    </tr>\n",
       "    <tr>\n",
       "      <th>5</th>\n",
       "      <td>Chicago Carriage Cab Corp</td>\n",
       "      <td>9181</td>\n",
       "    </tr>\n",
       "    <tr>\n",
       "      <th>6</th>\n",
       "      <td>City Service</td>\n",
       "      <td>8448</td>\n",
       "    </tr>\n",
       "    <tr>\n",
       "      <th>7</th>\n",
       "      <td>Sun Taxi</td>\n",
       "      <td>7701</td>\n",
       "    </tr>\n",
       "    <tr>\n",
       "      <th>8</th>\n",
       "      <td>Star North Management LLC</td>\n",
       "      <td>7455</td>\n",
       "    </tr>\n",
       "    <tr>\n",
       "      <th>9</th>\n",
       "      <td>Blue Ribbon Taxi Association Inc.</td>\n",
       "      <td>5953</td>\n",
       "    </tr>\n",
       "  </tbody>\n",
       "</table>\n",
       "</div>"
      ],
      "text/plain": [
       "                        company_name  trips_amount\n",
       "0                          Flash Cab         19558\n",
       "1          Taxi Affiliation Services         11422\n",
       "2                  Medallion Leasing         10367\n",
       "3                         Yellow Cab          9888\n",
       "4    Taxi Affiliation Service Yellow          9299\n",
       "5          Chicago Carriage Cab Corp          9181\n",
       "6                       City Service          8448\n",
       "7                           Sun Taxi          7701\n",
       "8          Star North Management LLC          7455\n",
       "9  Blue Ribbon Taxi Association Inc.          5953"
      ]
     },
     "metadata": {},
     "output_type": "display_data"
    },
    {
     "name": "stdout",
     "output_type": "stream",
     "text": [
      "\n",
      "<class 'pandas.core.frame.DataFrame'>\n",
      "RangeIndex: 64 entries, 0 to 63\n",
      "Data columns (total 2 columns):\n",
      " #   Column        Non-Null Count  Dtype \n",
      "---  ------        --------------  ----- \n",
      " 0   company_name  64 non-null     object\n",
      " 1   trips_amount  64 non-null     int64 \n",
      "dtypes: int64(1), object(1)\n",
      "memory usage: 1.1+ KB\n",
      "None\n",
      "\n",
      "       trips_amount\n",
      "count     64.000000\n",
      "mean    2145.484375\n",
      "std     3812.310186\n",
      "min        2.000000\n",
      "25%       20.750000\n",
      "50%      178.500000\n",
      "75%     2106.500000\n",
      "max    19558.000000\n",
      "\n",
      "Duplicated:  0\n",
      "\n",
      "Null values:\n",
      "company_name    0\n",
      "trips_amount    0\n",
      "dtype: int64\n"
     ]
    }
   ],
   "source": [
    "info(df_company)"
   ]
  },
  {
   "cell_type": "code",
   "execution_count": 6,
   "metadata": {},
   "outputs": [
    {
     "data": {
      "text/html": [
       "<div>\n",
       "<style scoped>\n",
       "    .dataframe tbody tr th:only-of-type {\n",
       "        vertical-align: middle;\n",
       "    }\n",
       "\n",
       "    .dataframe tbody tr th {\n",
       "        vertical-align: top;\n",
       "    }\n",
       "\n",
       "    .dataframe thead th {\n",
       "        text-align: right;\n",
       "    }\n",
       "</style>\n",
       "<table border=\"1\" class=\"dataframe\">\n",
       "  <thead>\n",
       "    <tr style=\"text-align: right;\">\n",
       "      <th></th>\n",
       "      <th>dropoff_location_name</th>\n",
       "      <th>average_trips</th>\n",
       "    </tr>\n",
       "  </thead>\n",
       "  <tbody>\n",
       "    <tr>\n",
       "      <th>0</th>\n",
       "      <td>Loop</td>\n",
       "      <td>10727.466667</td>\n",
       "    </tr>\n",
       "    <tr>\n",
       "      <th>1</th>\n",
       "      <td>River North</td>\n",
       "      <td>9523.666667</td>\n",
       "    </tr>\n",
       "    <tr>\n",
       "      <th>2</th>\n",
       "      <td>Streeterville</td>\n",
       "      <td>6664.666667</td>\n",
       "    </tr>\n",
       "    <tr>\n",
       "      <th>3</th>\n",
       "      <td>West Loop</td>\n",
       "      <td>5163.666667</td>\n",
       "    </tr>\n",
       "    <tr>\n",
       "      <th>4</th>\n",
       "      <td>O'Hare</td>\n",
       "      <td>2546.900000</td>\n",
       "    </tr>\n",
       "    <tr>\n",
       "      <th>5</th>\n",
       "      <td>Lake View</td>\n",
       "      <td>2420.966667</td>\n",
       "    </tr>\n",
       "    <tr>\n",
       "      <th>6</th>\n",
       "      <td>Grant Park</td>\n",
       "      <td>2068.533333</td>\n",
       "    </tr>\n",
       "    <tr>\n",
       "      <th>7</th>\n",
       "      <td>Museum Campus</td>\n",
       "      <td>1510.000000</td>\n",
       "    </tr>\n",
       "    <tr>\n",
       "      <th>8</th>\n",
       "      <td>Gold Coast</td>\n",
       "      <td>1364.233333</td>\n",
       "    </tr>\n",
       "    <tr>\n",
       "      <th>9</th>\n",
       "      <td>Sheffield &amp; DePaul</td>\n",
       "      <td>1259.766667</td>\n",
       "    </tr>\n",
       "  </tbody>\n",
       "</table>\n",
       "</div>"
      ],
      "text/plain": [
       "  dropoff_location_name  average_trips\n",
       "0                  Loop   10727.466667\n",
       "1           River North    9523.666667\n",
       "2         Streeterville    6664.666667\n",
       "3             West Loop    5163.666667\n",
       "4                O'Hare    2546.900000\n",
       "5             Lake View    2420.966667\n",
       "6            Grant Park    2068.533333\n",
       "7         Museum Campus    1510.000000\n",
       "8            Gold Coast    1364.233333\n",
       "9    Sheffield & DePaul    1259.766667"
      ]
     },
     "metadata": {},
     "output_type": "display_data"
    },
    {
     "name": "stdout",
     "output_type": "stream",
     "text": [
      "\n",
      "<class 'pandas.core.frame.DataFrame'>\n",
      "RangeIndex: 94 entries, 0 to 93\n",
      "Data columns (total 2 columns):\n",
      " #   Column                 Non-Null Count  Dtype  \n",
      "---  ------                 --------------  -----  \n",
      " 0   dropoff_location_name  94 non-null     object \n",
      " 1   average_trips          94 non-null     float64\n",
      "dtypes: float64(1), object(1)\n",
      "memory usage: 1.6+ KB\n",
      "None\n",
      "\n",
      "       average_trips\n",
      "count      94.000000\n",
      "mean      599.953728\n",
      "std      1714.591098\n",
      "min         1.800000\n",
      "25%        14.266667\n",
      "50%        52.016667\n",
      "75%       298.858333\n",
      "max     10727.466667\n",
      "\n",
      "Duplicated:  0\n",
      "\n",
      "Null values:\n",
      "dropoff_location_name    0\n",
      "average_trips            0\n",
      "dtype: int64\n"
     ]
    }
   ],
   "source": [
    "info(df_dropoff)"
   ]
  },
  {
   "cell_type": "markdown",
   "metadata": {},
   "source": [
    "### Asegurar que los tipos de datos sean correctos"
   ]
  },
  {
   "cell_type": "code",
   "execution_count": 7,
   "metadata": {},
   "outputs": [
    {
     "data": {
      "text/html": [
       "<div>\n",
       "<style scoped>\n",
       "    .dataframe tbody tr th:only-of-type {\n",
       "        vertical-align: middle;\n",
       "    }\n",
       "\n",
       "    .dataframe tbody tr th {\n",
       "        vertical-align: top;\n",
       "    }\n",
       "\n",
       "    .dataframe thead th {\n",
       "        text-align: right;\n",
       "    }\n",
       "</style>\n",
       "<table border=\"1\" class=\"dataframe\">\n",
       "  <thead>\n",
       "    <tr style=\"text-align: right;\">\n",
       "      <th></th>\n",
       "      <th>dropoff_location_name</th>\n",
       "      <th>average_trips</th>\n",
       "    </tr>\n",
       "  </thead>\n",
       "  <tbody>\n",
       "    <tr>\n",
       "      <th>0</th>\n",
       "      <td>Loop</td>\n",
       "      <td>10727</td>\n",
       "    </tr>\n",
       "    <tr>\n",
       "      <th>1</th>\n",
       "      <td>River North</td>\n",
       "      <td>9524</td>\n",
       "    </tr>\n",
       "    <tr>\n",
       "      <th>2</th>\n",
       "      <td>Streeterville</td>\n",
       "      <td>6665</td>\n",
       "    </tr>\n",
       "    <tr>\n",
       "      <th>3</th>\n",
       "      <td>West Loop</td>\n",
       "      <td>5164</td>\n",
       "    </tr>\n",
       "    <tr>\n",
       "      <th>4</th>\n",
       "      <td>O'Hare</td>\n",
       "      <td>2547</td>\n",
       "    </tr>\n",
       "    <tr>\n",
       "      <th>...</th>\n",
       "      <td>...</td>\n",
       "      <td>...</td>\n",
       "    </tr>\n",
       "    <tr>\n",
       "      <th>89</th>\n",
       "      <td>Mount Greenwood</td>\n",
       "      <td>3</td>\n",
       "    </tr>\n",
       "    <tr>\n",
       "      <th>90</th>\n",
       "      <td>Hegewisch</td>\n",
       "      <td>3</td>\n",
       "    </tr>\n",
       "    <tr>\n",
       "      <th>91</th>\n",
       "      <td>Burnside</td>\n",
       "      <td>2</td>\n",
       "    </tr>\n",
       "    <tr>\n",
       "      <th>92</th>\n",
       "      <td>East Side</td>\n",
       "      <td>2</td>\n",
       "    </tr>\n",
       "    <tr>\n",
       "      <th>93</th>\n",
       "      <td>Riverdale</td>\n",
       "      <td>2</td>\n",
       "    </tr>\n",
       "  </tbody>\n",
       "</table>\n",
       "<p>94 rows × 2 columns</p>\n",
       "</div>"
      ],
      "text/plain": [
       "   dropoff_location_name  average_trips\n",
       "0                   Loop          10727\n",
       "1            River North           9524\n",
       "2          Streeterville           6665\n",
       "3              West Loop           5164\n",
       "4                 O'Hare           2547\n",
       "..                   ...            ...\n",
       "89       Mount Greenwood              3\n",
       "90             Hegewisch              3\n",
       "91              Burnside              2\n",
       "92             East Side              2\n",
       "93             Riverdale              2\n",
       "\n",
       "[94 rows x 2 columns]"
      ]
     },
     "execution_count": 7,
     "metadata": {},
     "output_type": "execute_result"
    }
   ],
   "source": [
    "df_dropoff['average_trips'] = df_dropoff['average_trips'].round().astype('int')\n",
    "df_dropoff"
   ]
  },
  {
   "cell_type": "code",
   "execution_count": 8,
   "metadata": {},
   "outputs": [
    {
     "data": {
      "text/html": [
       "<div>\n",
       "<style scoped>\n",
       "    .dataframe tbody tr th:only-of-type {\n",
       "        vertical-align: middle;\n",
       "    }\n",
       "\n",
       "    .dataframe tbody tr th {\n",
       "        vertical-align: top;\n",
       "    }\n",
       "\n",
       "    .dataframe thead th {\n",
       "        text-align: right;\n",
       "    }\n",
       "</style>\n",
       "<table border=\"1\" class=\"dataframe\">\n",
       "  <thead>\n",
       "    <tr style=\"text-align: right;\">\n",
       "      <th></th>\n",
       "      <th>start_ts</th>\n",
       "      <th>weather_conditions</th>\n",
       "      <th>duration_seconds</th>\n",
       "    </tr>\n",
       "  </thead>\n",
       "  <tbody>\n",
       "    <tr>\n",
       "      <th>0</th>\n",
       "      <td>2017-11-25 16:00:00</td>\n",
       "      <td>Good</td>\n",
       "      <td>2410.0</td>\n",
       "    </tr>\n",
       "    <tr>\n",
       "      <th>1</th>\n",
       "      <td>2017-11-25 14:00:00</td>\n",
       "      <td>Good</td>\n",
       "      <td>1920.0</td>\n",
       "    </tr>\n",
       "    <tr>\n",
       "      <th>2</th>\n",
       "      <td>2017-11-25 12:00:00</td>\n",
       "      <td>Good</td>\n",
       "      <td>1543.0</td>\n",
       "    </tr>\n",
       "    <tr>\n",
       "      <th>3</th>\n",
       "      <td>2017-11-04 10:00:00</td>\n",
       "      <td>Good</td>\n",
       "      <td>2512.0</td>\n",
       "    </tr>\n",
       "    <tr>\n",
       "      <th>4</th>\n",
       "      <td>2017-11-11 07:00:00</td>\n",
       "      <td>Good</td>\n",
       "      <td>1440.0</td>\n",
       "    </tr>\n",
       "    <tr>\n",
       "      <th>5</th>\n",
       "      <td>2017-11-11 04:00:00</td>\n",
       "      <td>Good</td>\n",
       "      <td>1320.0</td>\n",
       "    </tr>\n",
       "    <tr>\n",
       "      <th>6</th>\n",
       "      <td>2017-11-04 16:00:00</td>\n",
       "      <td>Bad</td>\n",
       "      <td>2969.0</td>\n",
       "    </tr>\n",
       "    <tr>\n",
       "      <th>7</th>\n",
       "      <td>2017-11-18 11:00:00</td>\n",
       "      <td>Good</td>\n",
       "      <td>2280.0</td>\n",
       "    </tr>\n",
       "    <tr>\n",
       "      <th>8</th>\n",
       "      <td>2017-11-11 14:00:00</td>\n",
       "      <td>Good</td>\n",
       "      <td>2460.0</td>\n",
       "    </tr>\n",
       "    <tr>\n",
       "      <th>9</th>\n",
       "      <td>2017-11-11 12:00:00</td>\n",
       "      <td>Good</td>\n",
       "      <td>2040.0</td>\n",
       "    </tr>\n",
       "  </tbody>\n",
       "</table>\n",
       "</div>"
      ],
      "text/plain": [
       "              start_ts weather_conditions  duration_seconds\n",
       "0  2017-11-25 16:00:00               Good            2410.0\n",
       "1  2017-11-25 14:00:00               Good            1920.0\n",
       "2  2017-11-25 12:00:00               Good            1543.0\n",
       "3  2017-11-04 10:00:00               Good            2512.0\n",
       "4  2017-11-11 07:00:00               Good            1440.0\n",
       "5  2017-11-11 04:00:00               Good            1320.0\n",
       "6  2017-11-04 16:00:00                Bad            2969.0\n",
       "7  2017-11-18 11:00:00               Good            2280.0\n",
       "8  2017-11-11 14:00:00               Good            2460.0\n",
       "9  2017-11-11 12:00:00               Good            2040.0"
      ]
     },
     "metadata": {},
     "output_type": "display_data"
    },
    {
     "name": "stdout",
     "output_type": "stream",
     "text": [
      "\n",
      "<class 'pandas.core.frame.DataFrame'>\n",
      "RangeIndex: 1068 entries, 0 to 1067\n",
      "Data columns (total 3 columns):\n",
      " #   Column              Non-Null Count  Dtype  \n",
      "---  ------              --------------  -----  \n",
      " 0   start_ts            1068 non-null   object \n",
      " 1   weather_conditions  1068 non-null   object \n",
      " 2   duration_seconds    1068 non-null   float64\n",
      "dtypes: float64(1), object(2)\n",
      "memory usage: 25.2+ KB\n",
      "None\n",
      "\n",
      "       duration_seconds\n",
      "count       1068.000000\n",
      "mean        2071.731273\n",
      "std          769.461125\n",
      "min            0.000000\n",
      "25%         1438.250000\n",
      "50%         1980.000000\n",
      "75%         2580.000000\n",
      "max         7440.000000\n",
      "\n",
      "Duplicated:  197\n",
      "\n",
      "Null values:\n",
      "start_ts              0\n",
      "weather_conditions    0\n",
      "duration_seconds      0\n",
      "dtype: int64\n"
     ]
    }
   ],
   "source": [
    "info(df_trips)"
   ]
  },
  {
   "cell_type": "code",
   "execution_count": 9,
   "metadata": {},
   "outputs": [
    {
     "data": {
      "text/html": [
       "<div>\n",
       "<style scoped>\n",
       "    .dataframe tbody tr th:only-of-type {\n",
       "        vertical-align: middle;\n",
       "    }\n",
       "\n",
       "    .dataframe tbody tr th {\n",
       "        vertical-align: top;\n",
       "    }\n",
       "\n",
       "    .dataframe thead th {\n",
       "        text-align: right;\n",
       "    }\n",
       "</style>\n",
       "<table border=\"1\" class=\"dataframe\">\n",
       "  <thead>\n",
       "    <tr style=\"text-align: right;\">\n",
       "      <th></th>\n",
       "      <th>start_ts</th>\n",
       "      <th>weather_conditions</th>\n",
       "      <th>duration_seconds</th>\n",
       "    </tr>\n",
       "  </thead>\n",
       "  <tbody>\n",
       "    <tr>\n",
       "      <th>62</th>\n",
       "      <td>2017-11-11 06:00:00</td>\n",
       "      <td>Good</td>\n",
       "      <td>1260.0</td>\n",
       "    </tr>\n",
       "    <tr>\n",
       "      <th>74</th>\n",
       "      <td>2017-11-11 08:00:00</td>\n",
       "      <td>Good</td>\n",
       "      <td>1380.0</td>\n",
       "    </tr>\n",
       "    <tr>\n",
       "      <th>76</th>\n",
       "      <td>2017-11-04 09:00:00</td>\n",
       "      <td>Good</td>\n",
       "      <td>1380.0</td>\n",
       "    </tr>\n",
       "    <tr>\n",
       "      <th>117</th>\n",
       "      <td>2017-11-11 07:00:00</td>\n",
       "      <td>Good</td>\n",
       "      <td>1380.0</td>\n",
       "    </tr>\n",
       "    <tr>\n",
       "      <th>119</th>\n",
       "      <td>2017-11-04 14:00:00</td>\n",
       "      <td>Good</td>\n",
       "      <td>3300.0</td>\n",
       "    </tr>\n",
       "    <tr>\n",
       "      <th>125</th>\n",
       "      <td>2017-11-11 08:00:00</td>\n",
       "      <td>Good</td>\n",
       "      <td>1380.0</td>\n",
       "    </tr>\n",
       "    <tr>\n",
       "      <th>126</th>\n",
       "      <td>2017-11-11 09:00:00</td>\n",
       "      <td>Good</td>\n",
       "      <td>1380.0</td>\n",
       "    </tr>\n",
       "    <tr>\n",
       "      <th>130</th>\n",
       "      <td>2017-11-11 10:00:00</td>\n",
       "      <td>Good</td>\n",
       "      <td>1260.0</td>\n",
       "    </tr>\n",
       "    <tr>\n",
       "      <th>179</th>\n",
       "      <td>2017-11-11 06:00:00</td>\n",
       "      <td>Good</td>\n",
       "      <td>1260.0</td>\n",
       "    </tr>\n",
       "    <tr>\n",
       "      <th>190</th>\n",
       "      <td>2017-11-04 08:00:00</td>\n",
       "      <td>Good</td>\n",
       "      <td>1323.0</td>\n",
       "    </tr>\n",
       "  </tbody>\n",
       "</table>\n",
       "</div>"
      ],
      "text/plain": [
       "                start_ts weather_conditions  duration_seconds\n",
       "62   2017-11-11 06:00:00               Good            1260.0\n",
       "74   2017-11-11 08:00:00               Good            1380.0\n",
       "76   2017-11-04 09:00:00               Good            1380.0\n",
       "117  2017-11-11 07:00:00               Good            1380.0\n",
       "119  2017-11-04 14:00:00               Good            3300.0\n",
       "125  2017-11-11 08:00:00               Good            1380.0\n",
       "126  2017-11-11 09:00:00               Good            1380.0\n",
       "130  2017-11-11 10:00:00               Good            1260.0\n",
       "179  2017-11-11 06:00:00               Good            1260.0\n",
       "190  2017-11-04 08:00:00               Good            1323.0"
      ]
     },
     "execution_count": 9,
     "metadata": {},
     "output_type": "execute_result"
    }
   ],
   "source": [
    "df_trips[df_trips.duplicated()].head(10)"
   ]
  },
  {
   "cell_type": "code",
   "execution_count": 10,
   "metadata": {
    "scrolled": true
   },
   "outputs": [
    {
     "data": {
      "text/html": [
       "<div>\n",
       "<style scoped>\n",
       "    .dataframe tbody tr th:only-of-type {\n",
       "        vertical-align: middle;\n",
       "    }\n",
       "\n",
       "    .dataframe tbody tr th {\n",
       "        vertical-align: top;\n",
       "    }\n",
       "\n",
       "    .dataframe thead th {\n",
       "        text-align: right;\n",
       "    }\n",
       "</style>\n",
       "<table border=\"1\" class=\"dataframe\">\n",
       "  <thead>\n",
       "    <tr style=\"text-align: right;\">\n",
       "      <th></th>\n",
       "      <th>start_ts</th>\n",
       "      <th>weather_conditions</th>\n",
       "      <th>duration_seconds</th>\n",
       "    </tr>\n",
       "  </thead>\n",
       "  <tbody>\n",
       "    <tr>\n",
       "      <th>43</th>\n",
       "      <td>2017-11-11 06:00:00</td>\n",
       "      <td>Good</td>\n",
       "      <td>1260.0</td>\n",
       "    </tr>\n",
       "    <tr>\n",
       "      <th>62</th>\n",
       "      <td>2017-11-11 06:00:00</td>\n",
       "      <td>Good</td>\n",
       "      <td>1260.0</td>\n",
       "    </tr>\n",
       "    <tr>\n",
       "      <th>179</th>\n",
       "      <td>2017-11-11 06:00:00</td>\n",
       "      <td>Good</td>\n",
       "      <td>1260.0</td>\n",
       "    </tr>\n",
       "    <tr>\n",
       "      <th>250</th>\n",
       "      <td>2017-11-11 06:00:00</td>\n",
       "      <td>Good</td>\n",
       "      <td>1260.0</td>\n",
       "    </tr>\n",
       "    <tr>\n",
       "      <th>333</th>\n",
       "      <td>2017-11-11 06:00:00</td>\n",
       "      <td>Good</td>\n",
       "      <td>1260.0</td>\n",
       "    </tr>\n",
       "    <tr>\n",
       "      <th>343</th>\n",
       "      <td>2017-11-11 06:00:00</td>\n",
       "      <td>Good</td>\n",
       "      <td>1260.0</td>\n",
       "    </tr>\n",
       "    <tr>\n",
       "      <th>725</th>\n",
       "      <td>2017-11-11 06:00:00</td>\n",
       "      <td>Good</td>\n",
       "      <td>1260.0</td>\n",
       "    </tr>\n",
       "    <tr>\n",
       "      <th>948</th>\n",
       "      <td>2017-11-11 06:00:00</td>\n",
       "      <td>Good</td>\n",
       "      <td>1260.0</td>\n",
       "    </tr>\n",
       "  </tbody>\n",
       "</table>\n",
       "</div>"
      ],
      "text/plain": [
       "                start_ts weather_conditions  duration_seconds\n",
       "43   2017-11-11 06:00:00               Good            1260.0\n",
       "62   2017-11-11 06:00:00               Good            1260.0\n",
       "179  2017-11-11 06:00:00               Good            1260.0\n",
       "250  2017-11-11 06:00:00               Good            1260.0\n",
       "333  2017-11-11 06:00:00               Good            1260.0\n",
       "343  2017-11-11 06:00:00               Good            1260.0\n",
       "725  2017-11-11 06:00:00               Good            1260.0\n",
       "948  2017-11-11 06:00:00               Good            1260.0"
      ]
     },
     "execution_count": 10,
     "metadata": {},
     "output_type": "execute_result"
    }
   ],
   "source": [
    "df_trips.query('start_ts == \"2017-11-11 06:00:00\" & weather_conditions == \"Good\" & duration_seconds == 1260')"
   ]
  },
  {
   "cell_type": "code",
   "execution_count": 11,
   "metadata": {},
   "outputs": [],
   "source": [
    "df_trips.drop_duplicates(keep='first'.format('trip_id'), inplace=True)"
   ]
  },
  {
   "cell_type": "code",
   "execution_count": 12,
   "metadata": {},
   "outputs": [
    {
     "data": {
      "text/plain": [
       "0"
      ]
     },
     "execution_count": 12,
     "metadata": {},
     "output_type": "execute_result"
    }
   ],
   "source": [
    "df_trips.duplicated().sum()"
   ]
  },
  {
   "cell_type": "code",
   "execution_count": 13,
   "metadata": {},
   "outputs": [],
   "source": [
    "df_trips = df_trips.query('duration_seconds != 0')"
   ]
  },
  {
   "cell_type": "code",
   "execution_count": 14,
   "metadata": {},
   "outputs": [
    {
     "data": {
      "text/html": [
       "<div>\n",
       "<style scoped>\n",
       "    .dataframe tbody tr th:only-of-type {\n",
       "        vertical-align: middle;\n",
       "    }\n",
       "\n",
       "    .dataframe tbody tr th {\n",
       "        vertical-align: top;\n",
       "    }\n",
       "\n",
       "    .dataframe thead th {\n",
       "        text-align: right;\n",
       "    }\n",
       "</style>\n",
       "<table border=\"1\" class=\"dataframe\">\n",
       "  <thead>\n",
       "    <tr style=\"text-align: right;\">\n",
       "      <th></th>\n",
       "      <th>start_ts</th>\n",
       "      <th>weather_conditions</th>\n",
       "      <th>duration_seconds</th>\n",
       "    </tr>\n",
       "  </thead>\n",
       "  <tbody>\n",
       "    <tr>\n",
       "      <th>0</th>\n",
       "      <td>2017-11-25 16:00:00</td>\n",
       "      <td>Good</td>\n",
       "      <td>2410.0</td>\n",
       "    </tr>\n",
       "    <tr>\n",
       "      <th>1</th>\n",
       "      <td>2017-11-25 14:00:00</td>\n",
       "      <td>Good</td>\n",
       "      <td>1920.0</td>\n",
       "    </tr>\n",
       "    <tr>\n",
       "      <th>2</th>\n",
       "      <td>2017-11-25 12:00:00</td>\n",
       "      <td>Good</td>\n",
       "      <td>1543.0</td>\n",
       "    </tr>\n",
       "    <tr>\n",
       "      <th>3</th>\n",
       "      <td>2017-11-04 10:00:00</td>\n",
       "      <td>Good</td>\n",
       "      <td>2512.0</td>\n",
       "    </tr>\n",
       "    <tr>\n",
       "      <th>4</th>\n",
       "      <td>2017-11-11 07:00:00</td>\n",
       "      <td>Good</td>\n",
       "      <td>1440.0</td>\n",
       "    </tr>\n",
       "    <tr>\n",
       "      <th>...</th>\n",
       "      <td>...</td>\n",
       "      <td>...</td>\n",
       "      <td>...</td>\n",
       "    </tr>\n",
       "    <tr>\n",
       "      <th>1059</th>\n",
       "      <td>2017-11-11 10:00:00</td>\n",
       "      <td>Good</td>\n",
       "      <td>1303.0</td>\n",
       "    </tr>\n",
       "    <tr>\n",
       "      <th>1060</th>\n",
       "      <td>2017-11-04 14:00:00</td>\n",
       "      <td>Good</td>\n",
       "      <td>2700.0</td>\n",
       "    </tr>\n",
       "    <tr>\n",
       "      <th>1061</th>\n",
       "      <td>2017-11-18 16:00:00</td>\n",
       "      <td>Bad</td>\n",
       "      <td>2186.0</td>\n",
       "    </tr>\n",
       "    <tr>\n",
       "      <th>1064</th>\n",
       "      <td>2017-11-11 10:00:00</td>\n",
       "      <td>Good</td>\n",
       "      <td>1318.0</td>\n",
       "    </tr>\n",
       "    <tr>\n",
       "      <th>1067</th>\n",
       "      <td>2017-11-04 16:00:00</td>\n",
       "      <td>Bad</td>\n",
       "      <td>2834.0</td>\n",
       "    </tr>\n",
       "  </tbody>\n",
       "</table>\n",
       "<p>865 rows × 3 columns</p>\n",
       "</div>"
      ],
      "text/plain": [
       "                start_ts weather_conditions  duration_seconds\n",
       "0    2017-11-25 16:00:00               Good            2410.0\n",
       "1    2017-11-25 14:00:00               Good            1920.0\n",
       "2    2017-11-25 12:00:00               Good            1543.0\n",
       "3    2017-11-04 10:00:00               Good            2512.0\n",
       "4    2017-11-11 07:00:00               Good            1440.0\n",
       "...                  ...                ...               ...\n",
       "1059 2017-11-11 10:00:00               Good            1303.0\n",
       "1060 2017-11-04 14:00:00               Good            2700.0\n",
       "1061 2017-11-18 16:00:00                Bad            2186.0\n",
       "1064 2017-11-11 10:00:00               Good            1318.0\n",
       "1067 2017-11-04 16:00:00                Bad            2834.0\n",
       "\n",
       "[865 rows x 3 columns]"
      ]
     },
     "execution_count": 14,
     "metadata": {},
     "output_type": "execute_result"
    }
   ],
   "source": [
    "df_trips['start_ts'] = pd.to_datetime(df_trips['start_ts'], format='%Y-%m-%d %H:%M:%S')\n",
    "df_trips"
   ]
  },
  {
   "cell_type": "markdown",
   "metadata": {},
   "source": [
    "<div class=\"alert alert-block alert-info\">\n",
    "<b>\n",
    "    \n",
    "Conclusiones 1\n",
    "\n",
    "1. `df_company` no hay valores ausentes ni duplicados\n",
    "2. `df_dropoff` no hay valores ausentes ni duplicadla. 'average_trips' tiene muchas cifras significativas por lo que es mejor redondearlo \n",
    "3 `df_weather` \n",
    "    \n",
    "    3.1 no hay valores ausentes.\n",
    "    \n",
    "    3.2 si duplicados no se encontro alguna razon para eliminarlos todos, por lo que solo se guardo un solo valor por cada duplicado, \n",
    "    \n",
    "    3.3 valores con 0 duración de tiempo se eliminaron\n",
    "    \n",
    "    3.4 la fecha se cambió a formato datetime\n",
    "</b> <a class=\"tocSkip\"></a>\n",
    "</div>\n"
   ]
  },
  {
   "cell_type": "markdown",
   "metadata": {},
   "source": [
    "###  Identificar los 10 principales barrios\n",
    "###  Hacer gráficos: empresas de taxis y número de viajes,"
   ]
  },
  {
   "cell_type": "code",
   "execution_count": 15,
   "metadata": {
    "scrolled": true
   },
   "outputs": [
    {
     "data": {
      "image/png": "[encoded data removed]",
      "text/plain": [
       "<Figure size 1000x600 with 1 Axes>"
      ]
     },
     "metadata": {},
     "output_type": "display_data"
    }
   ],
   "source": [
    "avg_location = df_dropoff.groupby('dropoff_location_name').agg({'average_trips':'sum'}).sort_values(by='average_trips', ascending=False).query('average_trips > 100')\n",
    "plt.figure(figsize=(10, 6))\n",
    "sns.barplot(x=avg_location['average_trips'], y=avg_location.index,  palette='viridis')\n",
    "plt.title('Número promedio de viajes por ubicación de destino')\n",
    "plt.xlabel('Número promedio de viajes')\n",
    "plt.ylabel('Ubicación de destino')\n",
    "plt.show()"
   ]
  },
  {
   "cell_type": "code",
   "execution_count": 16,
   "metadata": {},
   "outputs": [
    {
     "name": "stdout",
     "output_type": "stream",
     "text": [
      "Top 10 destinos\n"
     ]
    },
    {
     "data": {
      "text/html": [
       "<div>\n",
       "<style scoped>\n",
       "    .dataframe tbody tr th:only-of-type {\n",
       "        vertical-align: middle;\n",
       "    }\n",
       "\n",
       "    .dataframe tbody tr th {\n",
       "        vertical-align: top;\n",
       "    }\n",
       "\n",
       "    .dataframe thead th {\n",
       "        text-align: right;\n",
       "    }\n",
       "</style>\n",
       "<table border=\"1\" class=\"dataframe\">\n",
       "  <thead>\n",
       "    <tr style=\"text-align: right;\">\n",
       "      <th></th>\n",
       "      <th>average_trips</th>\n",
       "    </tr>\n",
       "    <tr>\n",
       "      <th>dropoff_location_name</th>\n",
       "      <th></th>\n",
       "    </tr>\n",
       "  </thead>\n",
       "  <tbody>\n",
       "    <tr>\n",
       "      <th>Loop</th>\n",
       "      <td>10727</td>\n",
       "    </tr>\n",
       "    <tr>\n",
       "      <th>River North</th>\n",
       "      <td>9524</td>\n",
       "    </tr>\n",
       "    <tr>\n",
       "      <th>Streeterville</th>\n",
       "      <td>6665</td>\n",
       "    </tr>\n",
       "    <tr>\n",
       "      <th>West Loop</th>\n",
       "      <td>5164</td>\n",
       "    </tr>\n",
       "    <tr>\n",
       "      <th>O'Hare</th>\n",
       "      <td>2547</td>\n",
       "    </tr>\n",
       "    <tr>\n",
       "      <th>Lake View</th>\n",
       "      <td>2421</td>\n",
       "    </tr>\n",
       "    <tr>\n",
       "      <th>Grant Park</th>\n",
       "      <td>2069</td>\n",
       "    </tr>\n",
       "    <tr>\n",
       "      <th>Museum Campus</th>\n",
       "      <td>1510</td>\n",
       "    </tr>\n",
       "    <tr>\n",
       "      <th>Gold Coast</th>\n",
       "      <td>1364</td>\n",
       "    </tr>\n",
       "    <tr>\n",
       "      <th>Sheffield &amp; DePaul</th>\n",
       "      <td>1260</td>\n",
       "    </tr>\n",
       "  </tbody>\n",
       "</table>\n",
       "</div>"
      ],
      "text/plain": [
       "                       average_trips\n",
       "dropoff_location_name               \n",
       "Loop                           10727\n",
       "River North                     9524\n",
       "Streeterville                   6665\n",
       "West Loop                       5164\n",
       "O'Hare                          2547\n",
       "Lake View                       2421\n",
       "Grant Park                      2069\n",
       "Museum Campus                   1510\n",
       "Gold Coast                      1364\n",
       "Sheffield & DePaul              1260"
      ]
     },
     "execution_count": 16,
     "metadata": {},
     "output_type": "execute_result"
    }
   ],
   "source": [
    "print('Top 10 destinos')\n",
    "avg_location.head(10)"
   ]
  },
  {
   "cell_type": "code",
   "execution_count": 17,
   "metadata": {
    "scrolled": true
   },
   "outputs": [
    {
     "data": {
      "image/png": "[encoded data removed]",
      "text/plain": [
       "<Figure size 1000x600 with 1 Axes>"
      ]
     },
     "metadata": {},
     "output_type": "display_data"
    }
   ],
   "source": [
    "company_trips = df_company.groupby('company_name').agg({'trips_amount':'sum'}).sort_values(by='trips_amount', ascending=False).query('trips_amount > 100')\n",
    "plt.figure(figsize=(10, 6))\n",
    "sns.barplot(x=company_trips['trips_amount'], y=company_trips.index, palette='viridis')\n",
    "plt.title('Número total de viajes por compañía')\n",
    "plt.xlabel('Número de viajes')\n",
    "plt.ylabel('Compañía')\n",
    "plt.show()"
   ]
  },
  {
   "cell_type": "code",
   "execution_count": 18,
   "metadata": {
    "scrolled": true
   },
   "outputs": [
    {
     "name": "stdout",
     "output_type": "stream",
     "text": [
      "Top 10 compañias\n"
     ]
    },
    {
     "data": {
      "text/html": [
       "<div>\n",
       "<style scoped>\n",
       "    .dataframe tbody tr th:only-of-type {\n",
       "        vertical-align: middle;\n",
       "    }\n",
       "\n",
       "    .dataframe tbody tr th {\n",
       "        vertical-align: top;\n",
       "    }\n",
       "\n",
       "    .dataframe thead th {\n",
       "        text-align: right;\n",
       "    }\n",
       "</style>\n",
       "<table border=\"1\" class=\"dataframe\">\n",
       "  <thead>\n",
       "    <tr style=\"text-align: right;\">\n",
       "      <th></th>\n",
       "      <th>trips_amount</th>\n",
       "    </tr>\n",
       "    <tr>\n",
       "      <th>company_name</th>\n",
       "      <th></th>\n",
       "    </tr>\n",
       "  </thead>\n",
       "  <tbody>\n",
       "    <tr>\n",
       "      <th>Flash Cab</th>\n",
       "      <td>19558</td>\n",
       "    </tr>\n",
       "    <tr>\n",
       "      <th>Taxi Affiliation Services</th>\n",
       "      <td>11422</td>\n",
       "    </tr>\n",
       "    <tr>\n",
       "      <th>Medallion Leasing</th>\n",
       "      <td>10367</td>\n",
       "    </tr>\n",
       "    <tr>\n",
       "      <th>Yellow Cab</th>\n",
       "      <td>9888</td>\n",
       "    </tr>\n",
       "    <tr>\n",
       "      <th>Taxi Affiliation Service Yellow</th>\n",
       "      <td>9299</td>\n",
       "    </tr>\n",
       "    <tr>\n",
       "      <th>Chicago Carriage Cab Corp</th>\n",
       "      <td>9181</td>\n",
       "    </tr>\n",
       "    <tr>\n",
       "      <th>City Service</th>\n",
       "      <td>8448</td>\n",
       "    </tr>\n",
       "    <tr>\n",
       "      <th>Sun Taxi</th>\n",
       "      <td>7701</td>\n",
       "    </tr>\n",
       "    <tr>\n",
       "      <th>Star North Management LLC</th>\n",
       "      <td>7455</td>\n",
       "    </tr>\n",
       "    <tr>\n",
       "      <th>Blue Ribbon Taxi Association Inc.</th>\n",
       "      <td>5953</td>\n",
       "    </tr>\n",
       "  </tbody>\n",
       "</table>\n",
       "</div>"
      ],
      "text/plain": [
       "                                   trips_amount\n",
       "company_name                                   \n",
       "Flash Cab                                 19558\n",
       "Taxi Affiliation Services                 11422\n",
       "Medallion Leasing                         10367\n",
       "Yellow Cab                                 9888\n",
       "Taxi Affiliation Service Yellow            9299\n",
       "Chicago Carriage Cab Corp                  9181\n",
       "City Service                               8448\n",
       "Sun Taxi                                   7701\n",
       "Star North Management LLC                  7455\n",
       "Blue Ribbon Taxi Association Inc.          5953"
      ]
     },
     "execution_count": 18,
     "metadata": {},
     "output_type": "execute_result"
    }
   ],
   "source": [
    "print('Top 10 compañias')\n",
    "company_trips.head(10)"
   ]
  },
  {
   "cell_type": "markdown",
   "metadata": {},
   "source": [
    "<div class=\"alert alert-block alert-info\">\n",
    "<b>\n",
    "    \n",
    "Conclusiones 2: Las compañias con más viajes y los destinos mas solicitados son:\n",
    "\n",
    "        \n",
    "        Destinos              Compañias \n",
    "    \n",
    "        Loop                     Flash Cab\n",
    "        River North              Taxi Affiliation Services\n",
    "        Streeterville            Medallion Leasin\t\n",
    "        West Loop\t            Yellow Cab\n",
    "        O'Hare\t               Taxi Affiliation Service Yellow\n",
    "        Lake View                Chicago Carriage Cab Corp\t\n",
    "        Grant Park               City Service\n",
    "        Museum Campus            Sun Taxi\t\n",
    "        Gold Coast\t           Star North Management LLC\n",
    "        Sheffield & DePaul       Blue Ribbon Taxi Association Inc.\t\n",
    "     \n",
    "        \n",
    "</b> <a class=\"tocSkip\"></a>\n",
    "</div>"
   ]
  },
  {
   "cell_type": "markdown",
   "metadata": {},
   "source": [
    "## Paso 5. Prueba de hipótesis (Python)\n",
    "\n",
    "\n",
    "Prueba la hipótesis:\n",
    "\"La duración promedio de los viajes desde el Loop hasta el Aeropuerto Internacional O'Hare cambia los sábados lluviosos\"."
   ]
  },
  {
   "cell_type": "code",
   "execution_count": 19,
   "metadata": {
    "scrolled": true
   },
   "outputs": [
    {
     "data": {
      "text/plain": [
       "weather_conditions\n",
       "Bad     148\n",
       "Good    717\n",
       "Name: weather_conditions, dtype: int64"
      ]
     },
     "execution_count": 19,
     "metadata": {},
     "output_type": "execute_result"
    }
   ],
   "source": [
    "df_trips.groupby('weather_conditions')['weather_conditions'].count()"
   ]
  },
  {
   "cell_type": "code",
   "execution_count": 20,
   "metadata": {
    "scrolled": true
   },
   "outputs": [
    {
     "data": {
      "text/plain": [
       "weather_conditions\n",
       "Bad     2409.229730\n",
       "Good    2049.259414\n",
       "Name: duration_seconds, dtype: float64"
      ]
     },
     "execution_count": 20,
     "metadata": {},
     "output_type": "execute_result"
    }
   ],
   "source": [
    "df_trips.groupby('weather_conditions')['duration_seconds'].mean()"
   ]
  },
  {
   "cell_type": "code",
   "execution_count": 21,
   "metadata": {
    "scrolled": true
   },
   "outputs": [
    {
     "data": {
      "image/png": "[encoded data removed]",
      "text/plain": [
       "<Figure size 1000x600 with 1 Axes>"
      ]
     },
     "metadata": {},
     "output_type": "display_data"
    }
   ],
   "source": [
    "good = df_trips[df_trips['weather_conditions'] == 'Good']['duration_seconds']\n",
    "bad = df_trips[df_trips['weather_conditions'] == 'Bad']['duration_seconds']\n",
    "plt.figure(figsize=(10, 6))\n",
    "sns.kdeplot(good, shade=True, color='b', label='Bueno')\n",
    "sns.kdeplot(bad, shade=True, color='r', label='Malo')\n",
    "plt.title('Distribución de la duración de los viajes según las condiciones climáticas')\n",
    "plt.xlabel('Duración de los viajes')\n",
    "plt.ylabel('Densidad')\n",
    "plt.legend()\n",
    "plt.show()"
   ]
  },
  {
   "cell_type": "code",
   "execution_count": 22,
   "metadata": {
    "scrolled": true
   },
   "outputs": [
    {
     "name": "stdout",
     "output_type": "stream",
     "text": [
      "Good: 567538.2925368953\n",
      "Bad: 561003.0958728999\n"
     ]
    }
   ],
   "source": [
    "print('Good:', np.var(good))\n",
    "print('Bad:', np.var(bad))"
   ]
  },
  {
   "cell_type": "markdown",
   "metadata": {},
   "source": [
    "<div class=\"alert alert-block alert-info\">\n",
    "<b>\n",
    "  \n",
    "Varianza similar -> podemos utilizar p-value\n",
    "        \n",
    "</b> <a class=\"tocSkip\"></a>\n",
    "</div>"
   ]
  },
  {
   "cell_type": "markdown",
   "metadata": {},
   "source": [
    "<div class=\"alert alert-block alert-info\">\n",
    "\n",
    "<b>Comentario del revisor</b> <a class=\"tocSkip\"></a>\n",
    "\n",
    "Excelente trabajo en mostrar los supuestos de varianzas iguales. En futuras ocasiones para mostrar este supuesto puedes hacer uso de la prueba de levene.  Para esto, primero debes calcular las varianzas para cada uno de los días (lluvioso y no lluvioso) debes de hacer uso de la siguiente función: \n",
    "    \n",
    "    levene(rainy_saturday_trips['duration_seconds'], non_rainy_saturday_trips ['duration_seconds'])\n",
    "    \n",
    "Adoptaremos un nivel de significancia de 0.05; si el valor p resultante es mayor a 0.05, no podemos rechazar la hipótesis nula, y si es menor a 0.05, rechazamos la hipótesis nula, indicando que las varianzas no son iguales. \n",
    "    \n",
    "Solamente recuerda que la prueba de levene no es sustituto a la prueba de st.ttest_ind, más bien es complemento para saber que colocar dentro del elemento \"equal_var\".  Es por eso que para terminar la prueba debes de realizar la prueba de st.ttest_ind considernado el resultado de la prueba realizada de levene. </div>"
   ]
  },
  {
   "cell_type": "code",
   "execution_count": 23,
   "metadata": {},
   "outputs": [
    {
     "name": "stdout",
     "output_type": "stream",
     "text": [
      "pvalue: 1.5394237752380357e-07\n",
      "Rechazar la hipótesis nula\n"
     ]
    }
   ],
   "source": [
    "alpha = 0.05\n",
    "    \n",
    "results = stats.ttest_ind(good, bad, equal_var=True)\n",
    "\n",
    "print('pvalue:', results.pvalue)\n",
    "\n",
    "if results.pvalue < alpha:\n",
    "    print(\"Rechazar la hipótesis nula\")\n",
    "else:\n",
    "    print(\"No rechazar la hipótesis nula\") "
   ]
  },
  {
   "cell_type": "markdown",
   "metadata": {},
   "source": [
    "<div class=\"alert alert-block alert-info\">\n",
    "<b>\n",
    "    \n",
    "Conclusiones 3: \n",
    "\n",
    "  \n",
    "La duración de viajes los sábados con mal tiempo es mayor que la de los sabados con buen clima. \n",
    "        \n",
    "</b> <a class=\"tocSkip\"></a>\n",
    "</div>"
   ]
  }
 ],
 "metadata": {
  "ExecuteTimeLog": [
   {
    "duration": 5148,
    "start_time": "2024-06-25T20:40:26.863Z"
   },
   {
    "duration": 1161,
    "start_time": "2024-06-25T20:40:49.908Z"
   },
   {
    "duration": 128,
    "start_time": "2024-06-25T20:41:06.927Z"
   },
   {
    "duration": 27,
    "start_time": "2024-06-25T20:41:13.262Z"
   },
   {
    "duration": 5,
    "start_time": "2024-06-25T20:41:28.264Z"
   },
   {
    "duration": 32,
    "start_time": "2024-06-25T20:41:40.983Z"
   },
   {
    "duration": 37,
    "start_time": "2024-06-25T20:41:52.336Z"
   },
   {
    "duration": 30,
    "start_time": "2024-06-25T20:42:06.255Z"
   },
   {
    "duration": 14,
    "start_time": "2024-06-25T20:50:20.295Z"
   },
   {
    "duration": 23,
    "start_time": "2024-06-25T20:50:33.111Z"
   },
   {
    "duration": 15,
    "start_time": "2024-06-25T20:50:49.659Z"
   },
   {
    "duration": 22,
    "start_time": "2024-06-25T20:51:07.655Z"
   },
   {
    "duration": 6,
    "start_time": "2024-06-25T20:57:08.581Z"
   },
   {
    "duration": 34,
    "start_time": "2024-06-25T21:00:06.863Z"
   },
   {
    "duration": 5,
    "start_time": "2024-06-25T21:00:14.184Z"
   },
   {
    "duration": 14,
    "start_time": "2024-06-25T21:00:33.623Z"
   },
   {
    "duration": 8,
    "start_time": "2024-06-25T21:01:26.686Z"
   },
   {
    "duration": 23,
    "start_time": "2024-06-25T21:01:50.216Z"
   },
   {
    "duration": 12,
    "start_time": "2024-06-25T21:02:21.737Z"
   },
   {
    "duration": 25,
    "start_time": "2024-06-25T21:02:26.143Z"
   },
   {
    "duration": 833,
    "start_time": "2024-06-25T21:04:21.623Z"
   },
   {
    "duration": 851,
    "start_time": "2024-06-25T21:17:47.539Z"
   },
   {
    "duration": 4,
    "start_time": "2024-06-25T21:18:08.693Z"
   },
   {
    "duration": 618,
    "start_time": "2024-06-25T21:18:26.840Z"
   },
   {
    "duration": 10,
    "start_time": "2024-06-25T21:18:43.075Z"
   },
   {
    "duration": 538,
    "start_time": "2024-06-25T21:18:46.241Z"
   },
   {
    "duration": 16,
    "start_time": "2024-06-25T21:20:22.379Z"
   },
   {
    "duration": 4,
    "start_time": "2024-06-25T21:20:31.152Z"
   },
   {
    "duration": 674,
    "start_time": "2024-06-25T21:20:37.791Z"
   },
   {
    "duration": 242,
    "start_time": "2024-06-25T21:21:28.201Z"
   },
   {
    "duration": 654,
    "start_time": "2024-06-25T21:21:40.463Z"
   },
   {
    "duration": 614,
    "start_time": "2024-06-25T21:22:47.711Z"
   },
   {
    "duration": 575,
    "start_time": "2024-06-25T21:22:58.831Z"
   },
   {
    "duration": 11,
    "start_time": "2024-06-25T21:23:06.816Z"
   },
   {
    "duration": 641,
    "start_time": "2024-06-25T21:23:21.879Z"
   },
   {
    "duration": 14,
    "start_time": "2024-06-25T21:23:34.017Z"
   },
   {
    "duration": 13,
    "start_time": "2024-06-25T21:23:51.930Z"
   },
   {
    "duration": 11,
    "start_time": "2024-06-25T21:24:02.627Z"
   },
   {
    "duration": 1053,
    "start_time": "2024-06-25T21:26:19.480Z"
   },
   {
    "duration": 10,
    "start_time": "2024-06-25T21:26:26.373Z"
   },
   {
    "duration": 614,
    "start_time": "2024-06-25T21:27:08.463Z"
   },
   {
    "duration": 9,
    "start_time": "2024-06-25T21:35:33.155Z"
   },
   {
    "duration": 9,
    "start_time": "2024-06-25T21:36:03.255Z"
   },
   {
    "duration": 12,
    "start_time": "2024-06-25T21:36:07.328Z"
   },
   {
    "duration": 668,
    "start_time": "2024-06-25T21:38:01.218Z"
   },
   {
    "duration": 24,
    "start_time": "2024-06-25T21:40:17.983Z"
   },
   {
    "duration": 135,
    "start_time": "2024-06-25T21:40:39.203Z"
   },
   {
    "duration": 5,
    "start_time": "2024-06-25T21:40:57.713Z"
   },
   {
    "duration": 7,
    "start_time": "2024-06-25T21:41:48.954Z"
   },
   {
    "duration": 5,
    "start_time": "2024-06-25T21:41:58.463Z"
   },
   {
    "duration": 6,
    "start_time": "2024-06-25T21:42:15.287Z"
   },
   {
    "duration": 6,
    "start_time": "2024-06-25T21:42:27.687Z"
   },
   {
    "duration": 6,
    "start_time": "2024-06-25T21:42:30.760Z"
   },
   {
    "duration": 5,
    "start_time": "2024-06-25T21:42:34.671Z"
   },
   {
    "duration": 1295,
    "start_time": "2024-06-25T21:43:41.519Z"
   },
   {
    "duration": 468,
    "start_time": "2024-06-25T21:48:13.472Z"
   },
   {
    "duration": 7,
    "start_time": "2024-06-25T21:49:19.191Z"
   },
   {
    "duration": 1159,
    "start_time": "2024-06-25T21:53:24.170Z"
   },
   {
    "duration": 931,
    "start_time": "2024-06-25T21:53:25.333Z"
   },
   {
    "duration": 21,
    "start_time": "2024-06-25T21:53:26.268Z"
   },
   {
    "duration": 5,
    "start_time": "2024-06-25T21:53:26.292Z"
   },
   {
    "duration": 49,
    "start_time": "2024-06-25T21:53:26.302Z"
   },
   {
    "duration": 30,
    "start_time": "2024-06-25T21:53:26.354Z"
   },
   {
    "duration": 15,
    "start_time": "2024-06-25T21:53:26.386Z"
   },
   {
    "duration": 32,
    "start_time": "2024-06-25T21:53:26.434Z"
   },
   {
    "duration": 16,
    "start_time": "2024-06-25T21:53:26.469Z"
   },
   {
    "duration": 50,
    "start_time": "2024-06-25T21:53:26.489Z"
   },
   {
    "duration": 7,
    "start_time": "2024-06-25T21:53:26.542Z"
   },
   {
    "duration": 9,
    "start_time": "2024-06-25T21:53:26.552Z"
   },
   {
    "duration": 6,
    "start_time": "2024-06-25T21:53:26.564Z"
   },
   {
    "duration": 67,
    "start_time": "2024-06-25T21:53:26.578Z"
   },
   {
    "duration": 637,
    "start_time": "2024-06-25T21:53:26.648Z"
   },
   {
    "duration": 11,
    "start_time": "2024-06-25T21:53:27.288Z"
   },
   {
    "duration": 617,
    "start_time": "2024-06-25T21:53:27.303Z"
   },
   {
    "duration": 11,
    "start_time": "2024-06-25T21:53:27.932Z"
   },
   {
    "duration": 16,
    "start_time": "2024-06-25T21:53:27.949Z"
   },
   {
    "duration": 9,
    "start_time": "2024-06-25T21:53:27.970Z"
   },
   {
    "duration": 590,
    "start_time": "2024-06-25T21:53:27.983Z"
   },
   {
    "duration": 9,
    "start_time": "2024-06-25T21:53:28.575Z"
   },
   {
    "duration": 7,
    "start_time": "2024-06-25T21:53:28.587Z"
   }
  ],
  "kernelspec": {
   "display_name": "ml",
   "language": "python",
   "name": "python3"
  },
  "language_info": {
   "codemirror_mode": {
    "name": "ipython",
    "version": 3
   },
   "file_extension": ".py",
   "mimetype": "text/x-python",
   "name": "python",
   "nbconvert_exporter": "python",
   "pygments_lexer": "ipython3",
   "version": "3.12.7"
  },
  "toc": {
   "base_numbering": 1,
   "nav_menu": {},
   "number_sections": true,
   "sideBar": true,
   "skip_h1_title": true,
   "title_cell": "Table of Contents",
   "title_sidebar": "Contents",
   "toc_cell": false,
   "toc_position": {},
   "toc_section_display": true,
   "toc_window_display": false
  }
 },
 "nbformat": 4,
 "nbformat_minor": 2
}
